{
  "cells": [
    {
      "cell_type": "code",
      "execution_count": null,
      "metadata": {
        "colab": {
          "base_uri": "https://localhost:8080/"
        },
        "id": "CDa9BD0cLpNe",
        "outputId": "b7e8a338-7f2c-4649-f4b2-4c0b8c89da7d"
      },
      "outputs": [
        {
          "output_type": "stream",
          "name": "stdout",
          "text": [
            "#1 [2 2]\n",
            "#2 [[1 1]\n",
            " [1 1]\n",
            " [1 1]\n",
            " [1 1]]\n",
            "#3 [[2 2]\n",
            " [2 2]]\n",
            "#4 [[0 0 0]\n",
            " [0 0 0]\n",
            " [0 0 0]]\n",
            "#5 [[1 1 1]\n",
            " [1 1 1]\n",
            " [1 1 1]]\n",
            "#6 [1 2 3 4]\n"
          ]
        }
      ],
      "source": [
        "# To-Do-Task\n",
        "\n",
        "#basic vector and matrix operation with Numpy\n",
        "\n",
        "#problem 1\n",
        "#1) initialize an empty array with size 2x2\n",
        "\n",
        "import numpy as np\n",
        "array1=np.array((2,2))\n",
        "print(\"#1\",array1)\n",
        "\n",
        "#2) initialize an array all ones 4x2\n",
        "array2=np.array([[1,1],[1,1],[1,1],[1,1]])\n",
        "print(\"#2\",array2)\n",
        "\n",
        "#3)return a new array with same shape and type as given array\n",
        "newarr=np.full((2,2),2,dtype=int)\n",
        "print(\"#3\",newarr)\n",
        "\n",
        "#4)return a new array of zeroes with the same type as given array\n",
        "arr4=np.zeros((3,3),dtype=newarr.dtype)\n",
        "print(\"#4\",arr4)\n",
        "\n",
        "#5) return a new array of ones with same shape and type as a given array\n",
        "arr5=np.ones((3,3),dtype=newarr.dtype)\n",
        "print(\"#5\",arr5)\n",
        "\n",
        "#6) for an existing list new_list=[1,2,3,4] convert to an nnumpy array\n",
        "new_list=[1,2,3,4]\n",
        "arr6=np.array(new_list)\n",
        "print(\"#6\",arr6)\n",
        "\n"
      ]
    },
    {
      "cell_type": "code",
      "source": [
        "#problem2\n",
        "import numpy as np\n",
        "#1) create an array with values ranging from 10 to 49\n",
        "\n",
        "array1=np.arange(10,50)\n",
        "print(\"#1\",array1)\n",
        "\n",
        "#2) Create a 3x3 matrix with values ranging drom 0 to 8\n",
        "\n",
        "array2=np.arange(0,9).reshape(3,3)\n",
        "print(\"#2\",array2)\n",
        "\n",
        "#3) Create a 3x3 identity matrix\n",
        "\n",
        "array3=np.eye(3)\n",
        "print(\"#3\",array3)\n",
        "\n",
        "#4)create a random array of size30 and find the mean of the array\n",
        "array4=np.random.random(30) # this creates an array of random number between 0 and 1\n",
        "meanval=np.mean(array4)\n",
        "print(\"#4 the mean value of array is:\",meanval)\n",
        "\n",
        "#5)create a 10x10 array with random values and find the minimum and maximum values\n",
        "array5=np.array(np.random.random(100)).reshape(10,10)\n",
        "\n",
        "print(\"the minimum value is:\",np.min(array5))\n",
        "print(\"the maximum value is:\",np.max(array5))\n",
        "\n",
        "#6)create a zero array of size 10 and replace 5th element with 1\n",
        "array6=np.zeros(10)\n",
        "array6[4]=1\n",
        "print(\"#6\",array6)\n",
        "\n",
        "\n",
        "#7)Reverse an array arr= [1,2,0,0,4,0]\n",
        "arr=np.array([1,2,0,0,4,0])\n",
        "reversed=arr[::-1] # reverse the array (start to the end taking -1 steps)\n",
        "print(\"#7 the reversed array is\",reversed)\n",
        "\n",
        "#8) create a 2d array with 1 on border and 0 inside\n",
        "array8=np.ones((5,5))\n",
        "array8[1:-1,1:-1]=0\n",
        "print(\"#8\",array8)\n",
        "\n",
        "\n",
        "#9) create a 8x8 matrix and fill it with a checkboard pattern\n",
        "array9=np.zeros((8,8),dtype=int)\n",
        "array9[1::2,::2]=1\n",
        "array9[::2,1::2]=1\n",
        "print(\"#9\",array9)\n",
        "\n",
        "\n",
        "\n",
        "\n",
        "\n",
        "\n"
      ],
      "metadata": {
        "colab": {
          "base_uri": "https://localhost:8080/"
        },
        "id": "PfACUpRXSiix",
        "outputId": "75326dea-bdda-4221-db02-14a226ee9aa1"
      },
      "execution_count": null,
      "outputs": [
        {
          "output_type": "stream",
          "name": "stdout",
          "text": [
            "#1 [10 11 12 13 14 15 16 17 18 19 20 21 22 23 24 25 26 27 28 29 30 31 32 33\n",
            " 34 35 36 37 38 39 40 41 42 43 44 45 46 47 48 49]\n",
            "#2 [[0 1 2]\n",
            " [3 4 5]\n",
            " [6 7 8]]\n",
            "#3 [[1. 0. 0.]\n",
            " [0. 1. 0.]\n",
            " [0. 0. 1.]]\n",
            "#4 the mean value of array is: 0.45547800718048465\n",
            "the minimum value is: 0.039500168747275466\n",
            "the maximum value is: 0.9936428473334545\n",
            "#6 [0. 0. 0. 0. 1. 0. 0. 0. 0. 0.]\n",
            "#7 the reversed array is [0 4 0 0 2 1]\n",
            "#8 [[1. 1. 1. 1. 1.]\n",
            " [1. 0. 0. 0. 1.]\n",
            " [1. 0. 0. 0. 1.]\n",
            " [1. 0. 0. 0. 1.]\n",
            " [1. 1. 1. 1. 1.]]\n",
            "#9 [[0 1 0 1 0 1 0 1]\n",
            " [1 0 1 0 1 0 1 0]\n",
            " [0 1 0 1 0 1 0 1]\n",
            " [1 0 1 0 1 0 1 0]\n",
            " [0 1 0 1 0 1 0 1]\n",
            " [1 0 1 0 1 0 1 0]\n",
            " [0 1 0 1 0 1 0 1]\n",
            " [1 0 1 0 1 0 1 0]]\n"
          ]
        }
      ]
    },
    {
      "cell_type": "code",
      "source": [
        "import numpy as np\n",
        "#problem 3\n",
        "\n",
        "x = np.array([[1,2],[3,5]])\n",
        "y = np.array([[5,6],[7,8]])\n",
        "v = np.array([9,10])\n",
        "w = np.array([11,12])\n",
        "\n",
        "#1) add two array\n",
        "print(\"addition:\",np.add(x,y))\n",
        "\n",
        "#2)subtract two array\n",
        "print(\"subtract:\",np.subtract(w,v))\n",
        "\n",
        "#3)multiply the array with any integer\n",
        "mulx=x*4\n",
        "muly=y*5\n",
        "mulv=v*4\n",
        "mulw=w*5\n",
        "print(\"x multiplied by integer:\",mulx)\n",
        "print(\"y multiplied by integer:\",muly)\n",
        "print(\"v multiplied by integer:\",mulv)\n",
        "print(\"w multiplied by integer:\",mulw)\n",
        "\n",
        "\n",
        "#4)find the square of each element of the array\n",
        "squaredx=x**2\n",
        "squaredy=y**2\n",
        "squaredv=v**2\n",
        "squaredw=w**2\n",
        "print(\"the squared array of x is:\",squaredx)\n",
        "print(\"the squared array of y is:\",squaredy)\n",
        "print(\"the squared array of v is:\",squaredv)\n",
        "print(\"the squared array of w is:\",squaredw)\n",
        "\n",
        "#5)find the dot product\n",
        "dotx=np.dot(v,w)\n",
        "dotx=np.dot(x,v)\n",
        "dotx=np.dot(x,y)\n",
        "\n",
        "\n",
        "print(\"the dot product btn v and w is:\",dotx)\n",
        "print(\"the dot product btn x and v is:\",dotx)\n",
        "print(\"the dot product btn x and y is:\",dotx)\n",
        "\n",
        "#6)Concatenate x(and)y along row and Concatenate v(and)w along column.\n",
        "concatxny=np.concatenate((x,y),axis=0)\n",
        "print(\"x and y concatenated along rows\",concatxny)\n",
        "concatvnw=np.column_stack((v, w))\n",
        "print(\"v and w concatenated along columns\",concatvnw)\\\n",
        "\n",
        "#7) concatenating x and v\n",
        "#concatxnv=np.concatenate((x,v))\n",
        "# the error observed wasn value error as the dimensions of the array didnt match each other\n",
        "#print(concatxnv)\n",
        "\n"
      ],
      "metadata": {
        "id": "e_2Ubo67UxHz",
        "colab": {
          "base_uri": "https://localhost:8080/"
        },
        "outputId": "f6d862cb-d326-44a8-ce8f-0642dfce55df"
      },
      "execution_count": 19,
      "outputs": [
        {
          "output_type": "stream",
          "name": "stdout",
          "text": [
            "addition: [[ 6  8]\n",
            " [10 13]]\n",
            "subtract: [2 2]\n",
            "x multiplied by integer: [[ 4  8]\n",
            " [12 20]]\n",
            "y multiplied by integer: [[25 30]\n",
            " [35 40]]\n",
            "v multiplied by integer: [36 40]\n",
            "w multiplied by integer: [55 60]\n",
            "the squared array of x is: [[ 1  4]\n",
            " [ 9 25]]\n",
            "the squared array of y is: [[25 36]\n",
            " [49 64]]\n",
            "the squared array of v is: [ 81 100]\n",
            "the squared array of w is: [121 144]\n",
            "the dot product btn v and w is: [[19 22]\n",
            " [50 58]]\n",
            "the dot product btn x and v is: [[19 22]\n",
            " [50 58]]\n",
            "the dot product btn x and y is: [[19 22]\n",
            " [50 58]]\n",
            "x and y concatenated along rows [[1 2]\n",
            " [3 5]\n",
            " [5 6]\n",
            " [7 8]]\n",
            "v and w concatenated along columns [[ 9 11]\n",
            " [10 12]]\n"
          ]
        }
      ]
    },
    {
      "cell_type": "code",
      "source": [
        "#problem 4\n",
        "\n",
        "import numpy as np\n",
        "A = np.array([[3,4],[7,8]])\n",
        "B = np.array([[5,3],[2,1]])\n",
        "\n",
        "#1)Prove A.A−1 = I.\n",
        "# finding the inverse of A\n",
        "invA=np.linalg.inv(A)\n",
        "eqmultiplied=np.dot(A,invA)\n",
        "print(\" 1)hence proved \\n A*A^-1=\",eqmultiplied)\n",
        "\n",
        "#2)Prove AB ̸= BA.\n",
        "AxB=np.matmul(A,B)\n",
        "BxA=np.matmul(B,A)\n",
        "if np.array_equal(AxB,BxA):\n",
        "    print(\"2) AB ̸= BA not proved\")\n",
        "else:\n",
        "  print(\"2) AB ̸= BA equation proved\")\n",
        "\n",
        "#3)  prove (AB)^T=B^T A^T\n",
        "ABtranspose=AxB.T\n",
        "Bt_At=np.matmul(B.T, A.T)\n",
        "\n",
        "if np.array_equal(ABtranspose, Bt_At):\n",
        "  print(\"3)the equation (AB)^T=B^T A^T is proved\")\n",
        "else:\n",
        "  print(\"3)the equation (AB)^T=B^T A^T is not proved\")\n",
        "\n",
        "\n",
        "\n"
      ],
      "metadata": {
        "id": "yKwqMSW-UzL4",
        "colab": {
          "base_uri": "https://localhost:8080/"
        },
        "outputId": "94285ef2-97fe-4112-a362-545219c9e84c"
      },
      "execution_count": 33,
      "outputs": [
        {
          "output_type": "stream",
          "name": "stdout",
          "text": [
            " 1)hence proved \n",
            " A*A^-1= [[1.00000000e+00 0.00000000e+00]\n",
            " [1.77635684e-15 1.00000000e+00]]\n",
            "2) AB ̸= BA equation proved\n",
            "3)the equation (AB)^T=B^T A^T is proved\n"
          ]
        }
      ]
    },
    {
      "cell_type": "code",
      "source": [
        "#problem 4) ii\n",
        "import numpy as np\n",
        "A= np.array([[2,-3,1],[1,-1,2],[3,1,-1]]) # x y and z elemets of left hand side\n",
        "\n",
        "B=np.array([-1,-3,9]) #elements of right hand side\n",
        "\n",
        "invA=np.linalg.inv(A)\n",
        "\n",
        "X=np.dot(invA,B)\n",
        "print('The value of x is:',X[0])\n",
        "print('The value of y is:',X[1])\n",
        "print('The value of z is:',X[2])\n",
        "\n"
      ],
      "metadata": {
        "colab": {
          "base_uri": "https://localhost:8080/"
        },
        "id": "3cXwYVM2fthK",
        "outputId": "4a5cfd39-05e3-497f-cddc-439b06f6c41b"
      },
      "execution_count": 34,
      "outputs": [
        {
          "output_type": "stream",
          "name": "stdout",
          "text": [
            "The value of x is: 2.0\n",
            "The value of y is: 1.0\n",
            "The value of z is: -2.0\n"
          ]
        }
      ]
    },
    {
      "cell_type": "code",
      "source": [
        "#problem 4.2\n",
        "import time\n",
        "import numpy as np\n",
        "\n",
        "list1 = [i for i in range(1000000)]\n",
        "list2 = [i for i in range(1000000, 2000000)]\n",
        "start = time.time()\n",
        "result = [list1[i] + list2[i] for i in range(len(list1))]\n",
        "end = time.time()\n",
        "normal_time = end - start\n",
        "print(f\"Time taken for element-wise addition using Python lists: {normal_time:.5f} seconds\")\n",
        "\n",
        "#using numpy\n",
        "array1 = np.arange(1000000)\n",
        "array2 = np.arange(1000000, 2000000)\n",
        "start2 = time.time()\n",
        "result_array = array1 + array2\n",
        "end2 = time.time()\n",
        "numpy_time = end2 - start2\n",
        "print(f\"Time taken for element-wise addition using NumPy arrays: {numpy_time:.5f} seconds\")"
      ],
      "metadata": {
        "colab": {
          "base_uri": "https://localhost:8080/"
        },
        "id": "XYGrx-ioczMk",
        "outputId": "5a2c4271-9572-46bb-d0c6-a84b3a9968a6"
      },
      "execution_count": 35,
      "outputs": [
        {
          "output_type": "stream",
          "name": "stdout",
          "text": [
            "Time taken for element-wise addition using Python lists: 0.14918 seconds\n",
            "Time taken for element-wise addition using NumPy arrays: 0.00431 seconds\n"
          ]
        }
      ]
    },
    {
      "cell_type": "code",
      "source": [
        "#4.2) for elemetwise multiplication\n",
        "\n",
        "import time\n",
        "import numpy as np\n",
        "\n",
        "list1 = [i for i in range(1000000)]\n",
        "list2 = [i for i in range(1000000, 2000000)]\n",
        "start = time.time()\n",
        "result = [list1[i] * list2[i] for i in range(len(list1))]\n",
        "end = time.time()\n",
        "normal_time = end - start\n",
        "print(f\"Time taken for element-wise multiplication using Python lists: {normal_time:.5f} seconds\")\n",
        "\n",
        "array1 = np.arange(1000000)\n",
        "array2 = np.arange(1000000, 2000000)\n",
        "start2 = time.time()\n",
        "result_array = array1 * array2\n",
        "end2 = time.time()\n",
        "numpy_time = end2 - start2\n",
        "print(f\"Time taken for element-wise multiplication using NumPy arrays: {numpy_time:.5f} seconds\")\n"
      ],
      "metadata": {
        "colab": {
          "base_uri": "https://localhost:8080/"
        },
        "id": "p5Ajr1T1iT6O",
        "outputId": "8e3c87c3-20eb-4167-fa2f-eb68cab23f19"
      },
      "execution_count": 36,
      "outputs": [
        {
          "output_type": "stream",
          "name": "stdout",
          "text": [
            "Time taken for element-wise multiplication using Python lists: 0.18852 seconds\n",
            "Time taken for element-wise multiplication using NumPy arrays: 0.00463 seconds\n"
          ]
        }
      ]
    },
    {
      "cell_type": "code",
      "source": [
        "#4.2) for dot product\n",
        "\n",
        "import time\n",
        "import numpy as np\n",
        "\n",
        "list1 = [i for i in range(1000000)]\n",
        "list2 = [i for i in range(1000000, 2000000)]\n",
        "start = time.time()\n",
        "dot_product = sum(list1[i] * list2[i] for i in range(len(list1)))\n",
        "end = time.time()\n",
        "normal_time = end - start\n",
        "print(f\"Time taken for dot product using Python lists: {normal_time:.5f} seconds\")\n",
        "\n",
        "array1 = np.arange(1000000)\n",
        "array2 = np.arange(1000000, 2000000)\n",
        "start2 = time.time()\n",
        "dot_product_array = np.dot(array1, array2)\n",
        "end2 = time.time()\n",
        "numpy_time = end2 - start2\n",
        "print(f\"Time taken for dot product using NumPy arrays: {numpy_time:.5f} seconds\")\n"
      ],
      "metadata": {
        "colab": {
          "base_uri": "https://localhost:8080/"
        },
        "id": "KxsYzZEHiZJd",
        "outputId": "700a5efe-8aab-4343-f07b-173e3dccda50"
      },
      "execution_count": 37,
      "outputs": [
        {
          "output_type": "stream",
          "name": "stdout",
          "text": [
            "Time taken for dot product using Python lists: 0.30714 seconds\n",
            "Time taken for dot product using NumPy arrays: 0.00194 seconds\n"
          ]
        }
      ]
    },
    {
      "cell_type": "code",
      "source": [
        "#4.2) for multiplication\n",
        "\n",
        "import time\n",
        "import numpy as np\n",
        "\n",
        "n = 1000\n",
        "\n",
        "matrix1 = [[i for i in range(n)] for j in range(n)]\n",
        "matrix2 = [[i + 1 for i in range(n)] for j in range(n)]\n",
        "\n",
        "start = time.time()\n",
        "result_matrix = [[sum(matrix1[i][k] * matrix2[k][j] for k in range(n)) for j in range(n)] for i in range(n)]\n",
        "end = time.time()\n",
        "normal_time = end - start\n",
        "print(f\"Time taken for matrix multiplication using Python lists: {normal_time:.5f} seconds\")\n",
        "\n",
        "array1 = np.random.rand(n, n)\n",
        "array2 = np.random.rand(n, n)\n",
        "\n",
        "start2 = time.time()\n",
        "result_array = np.dot(array1, array2)\n",
        "end2 = time.time()\n",
        "numpy_time = end2 - start2\n",
        "print(f\"Time taken for matrix multiplication using NumPy arrays: {numpy_time:.5f} seconds\")\n"
      ],
      "metadata": {
        "colab": {
          "base_uri": "https://localhost:8080/"
        },
        "id": "8di2doyEigt0",
        "outputId": "75ef432f-40e2-4a45-f5ba-b40cd0cc2eb9"
      },
      "execution_count": 40,
      "outputs": [
        {
          "output_type": "stream",
          "name": "stdout",
          "text": [
            "Time taken for matrix multiplication using Python lists: 243.62491 seconds\n",
            "Time taken for matrix multiplication using NumPy arrays: 0.06078 seconds\n"
          ]
        }
      ]
    },
    {
      "cell_type": "code",
      "source": [
        "from google.colab import drive\n",
        "drive.mount('/content/drive')"
      ],
      "metadata": {
        "colab": {
          "base_uri": "https://localhost:8080/",
          "height": 311
        },
        "id": "-7lhJ4cAkI42",
        "outputId": "6c9f620f-c24f-4c82-efba-63a5c08b57bd"
      },
      "execution_count": 41,
      "outputs": [
        {
          "output_type": "error",
          "ename": "MessageError",
          "evalue": "Error: credential propagation was unsuccessful",
          "traceback": [
            "\u001b[0;31m---------------------------------------------------------------------------\u001b[0m",
            "\u001b[0;31mMessageError\u001b[0m                              Traceback (most recent call last)",
            "\u001b[0;32m<ipython-input-41-d5df0069828e>\u001b[0m in \u001b[0;36m<cell line: 2>\u001b[0;34m()\u001b[0m\n\u001b[1;32m      1\u001b[0m \u001b[0;32mfrom\u001b[0m \u001b[0mgoogle\u001b[0m\u001b[0;34m.\u001b[0m\u001b[0mcolab\u001b[0m \u001b[0;32mimport\u001b[0m \u001b[0mdrive\u001b[0m\u001b[0;34m\u001b[0m\u001b[0;34m\u001b[0m\u001b[0m\n\u001b[0;32m----> 2\u001b[0;31m \u001b[0mdrive\u001b[0m\u001b[0;34m.\u001b[0m\u001b[0mmount\u001b[0m\u001b[0;34m(\u001b[0m\u001b[0;34m'/content/drive'\u001b[0m\u001b[0;34m)\u001b[0m\u001b[0;34m\u001b[0m\u001b[0;34m\u001b[0m\u001b[0m\n\u001b[0m",
            "\u001b[0;32m/usr/local/lib/python3.10/dist-packages/google/colab/drive.py\u001b[0m in \u001b[0;36mmount\u001b[0;34m(mountpoint, force_remount, timeout_ms, readonly)\u001b[0m\n\u001b[1;32m     98\u001b[0m \u001b[0;32mdef\u001b[0m \u001b[0mmount\u001b[0m\u001b[0;34m(\u001b[0m\u001b[0mmountpoint\u001b[0m\u001b[0;34m,\u001b[0m \u001b[0mforce_remount\u001b[0m\u001b[0;34m=\u001b[0m\u001b[0;32mFalse\u001b[0m\u001b[0;34m,\u001b[0m \u001b[0mtimeout_ms\u001b[0m\u001b[0;34m=\u001b[0m\u001b[0;36m120000\u001b[0m\u001b[0;34m,\u001b[0m \u001b[0mreadonly\u001b[0m\u001b[0;34m=\u001b[0m\u001b[0;32mFalse\u001b[0m\u001b[0;34m)\u001b[0m\u001b[0;34m:\u001b[0m\u001b[0;34m\u001b[0m\u001b[0;34m\u001b[0m\u001b[0m\n\u001b[1;32m     99\u001b[0m   \u001b[0;34m\"\"\"Mount your Google Drive at the specified mountpoint path.\"\"\"\u001b[0m\u001b[0;34m\u001b[0m\u001b[0;34m\u001b[0m\u001b[0m\n\u001b[0;32m--> 100\u001b[0;31m   return _mount(\n\u001b[0m\u001b[1;32m    101\u001b[0m       \u001b[0mmountpoint\u001b[0m\u001b[0;34m,\u001b[0m\u001b[0;34m\u001b[0m\u001b[0;34m\u001b[0m\u001b[0m\n\u001b[1;32m    102\u001b[0m       \u001b[0mforce_remount\u001b[0m\u001b[0;34m=\u001b[0m\u001b[0mforce_remount\u001b[0m\u001b[0;34m,\u001b[0m\u001b[0;34m\u001b[0m\u001b[0;34m\u001b[0m\u001b[0m\n",
            "\u001b[0;32m/usr/local/lib/python3.10/dist-packages/google/colab/drive.py\u001b[0m in \u001b[0;36m_mount\u001b[0;34m(mountpoint, force_remount, timeout_ms, ephemeral, readonly)\u001b[0m\n\u001b[1;32m    135\u001b[0m   )\n\u001b[1;32m    136\u001b[0m   \u001b[0;32mif\u001b[0m \u001b[0mephemeral\u001b[0m\u001b[0;34m:\u001b[0m\u001b[0;34m\u001b[0m\u001b[0;34m\u001b[0m\u001b[0m\n\u001b[0;32m--> 137\u001b[0;31m     _message.blocking_request(\n\u001b[0m\u001b[1;32m    138\u001b[0m         \u001b[0;34m'request_auth'\u001b[0m\u001b[0;34m,\u001b[0m\u001b[0;34m\u001b[0m\u001b[0;34m\u001b[0m\u001b[0m\n\u001b[1;32m    139\u001b[0m         \u001b[0mrequest\u001b[0m\u001b[0;34m=\u001b[0m\u001b[0;34m{\u001b[0m\u001b[0;34m'authType'\u001b[0m\u001b[0;34m:\u001b[0m \u001b[0;34m'dfs_ephemeral'\u001b[0m\u001b[0;34m}\u001b[0m\u001b[0;34m,\u001b[0m\u001b[0;34m\u001b[0m\u001b[0;34m\u001b[0m\u001b[0m\n",
            "\u001b[0;32m/usr/local/lib/python3.10/dist-packages/google/colab/_message.py\u001b[0m in \u001b[0;36mblocking_request\u001b[0;34m(request_type, request, timeout_sec, parent)\u001b[0m\n\u001b[1;32m    174\u001b[0m       \u001b[0mrequest_type\u001b[0m\u001b[0;34m,\u001b[0m \u001b[0mrequest\u001b[0m\u001b[0;34m,\u001b[0m \u001b[0mparent\u001b[0m\u001b[0;34m=\u001b[0m\u001b[0mparent\u001b[0m\u001b[0;34m,\u001b[0m \u001b[0mexpect_reply\u001b[0m\u001b[0;34m=\u001b[0m\u001b[0;32mTrue\u001b[0m\u001b[0;34m\u001b[0m\u001b[0;34m\u001b[0m\u001b[0m\n\u001b[1;32m    175\u001b[0m   )\n\u001b[0;32m--> 176\u001b[0;31m   \u001b[0;32mreturn\u001b[0m \u001b[0mread_reply_from_input\u001b[0m\u001b[0;34m(\u001b[0m\u001b[0mrequest_id\u001b[0m\u001b[0;34m,\u001b[0m \u001b[0mtimeout_sec\u001b[0m\u001b[0;34m)\u001b[0m\u001b[0;34m\u001b[0m\u001b[0;34m\u001b[0m\u001b[0m\n\u001b[0m",
            "\u001b[0;32m/usr/local/lib/python3.10/dist-packages/google/colab/_message.py\u001b[0m in \u001b[0;36mread_reply_from_input\u001b[0;34m(message_id, timeout_sec)\u001b[0m\n\u001b[1;32m    101\u001b[0m     ):\n\u001b[1;32m    102\u001b[0m       \u001b[0;32mif\u001b[0m \u001b[0;34m'error'\u001b[0m \u001b[0;32min\u001b[0m \u001b[0mreply\u001b[0m\u001b[0;34m:\u001b[0m\u001b[0;34m\u001b[0m\u001b[0;34m\u001b[0m\u001b[0m\n\u001b[0;32m--> 103\u001b[0;31m         \u001b[0;32mraise\u001b[0m \u001b[0mMessageError\u001b[0m\u001b[0;34m(\u001b[0m\u001b[0mreply\u001b[0m\u001b[0;34m[\u001b[0m\u001b[0;34m'error'\u001b[0m\u001b[0;34m]\u001b[0m\u001b[0;34m)\u001b[0m\u001b[0;34m\u001b[0m\u001b[0;34m\u001b[0m\u001b[0m\n\u001b[0m\u001b[1;32m    104\u001b[0m       \u001b[0;32mreturn\u001b[0m \u001b[0mreply\u001b[0m\u001b[0;34m.\u001b[0m\u001b[0mget\u001b[0m\u001b[0;34m(\u001b[0m\u001b[0;34m'data'\u001b[0m\u001b[0;34m,\u001b[0m \u001b[0;32mNone\u001b[0m\u001b[0;34m)\u001b[0m\u001b[0;34m\u001b[0m\u001b[0;34m\u001b[0m\u001b[0m\n\u001b[1;32m    105\u001b[0m \u001b[0;34m\u001b[0m\u001b[0m\n",
            "\u001b[0;31mMessageError\u001b[0m: Error: credential propagation was unsuccessful"
          ]
        }
      ]
    },
    {
      "cell_type": "code",
      "source": [],
      "metadata": {
        "id": "IQZEi3d-i5l4"
      },
      "execution_count": null,
      "outputs": []
    }
  ],
  "metadata": {
    "colab": {
      "provenance": []
    },
    "kernelspec": {
      "display_name": "Python 3",
      "name": "python3"
    },
    "language_info": {
      "name": "python"
    }
  },
  "nbformat": 4,
  "nbformat_minor": 0
}